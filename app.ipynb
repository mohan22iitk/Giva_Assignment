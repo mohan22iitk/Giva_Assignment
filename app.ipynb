{
  "cells": [
    {
      "cell_type": "markdown",
      "metadata": {
        "id": "view-in-github",
        "colab_type": "text"
      },
      "source": [
        "<a href=\"https://colab.research.google.com/github/mohan22iitk/Giva_Assignment/blob/main/app_py.ipynb\" target=\"_parent\"><img src=\"https://colab.research.google.com/assets/colab-badge.svg\" alt=\"Open In Colab\"/></a>"
      ]
    },
    {
      "cell_type": "code",
      "source": [
        "!pip install faiss-cpu"
      ],
      "metadata": {
        "colab": {
          "base_uri": "https://localhost:8080/"
        },
        "id": "Ma7D-q_MQJ2b",
        "outputId": "cc197bcd-66be-470d-dd28-a2e630eaae55"
      },
      "execution_count": 14,
      "outputs": [
        {
          "output_type": "stream",
          "name": "stdout",
          "text": [
            "Requirement already satisfied: faiss-cpu in /usr/local/lib/python3.11/dist-packages (1.10.0)\n",
            "Requirement already satisfied: numpy<3.0,>=1.25.0 in /usr/local/lib/python3.11/dist-packages (from faiss-cpu) (2.0.2)\n",
            "Requirement already satisfied: packaging in /usr/local/lib/python3.11/dist-packages (from faiss-cpu) (24.2)\n"
          ]
        }
      ]
    },
    {
      "cell_type": "code",
      "source": [
        "!pip install fastapi"
      ],
      "metadata": {
        "colab": {
          "base_uri": "https://localhost:8080/"
        },
        "id": "S1hScLNVQo-G",
        "outputId": "f90a7178-d212-4565-eb67-f4eba96e055f"
      },
      "execution_count": 15,
      "outputs": [
        {
          "output_type": "stream",
          "name": "stdout",
          "text": [
            "Requirement already satisfied: fastapi in /usr/local/lib/python3.11/dist-packages (0.115.11)\n",
            "Requirement already satisfied: starlette<0.47.0,>=0.40.0 in /usr/local/lib/python3.11/dist-packages (from fastapi) (0.46.1)\n",
            "Requirement already satisfied: pydantic!=1.8,!=1.8.1,!=2.0.0,!=2.0.1,!=2.1.0,<3.0.0,>=1.7.4 in /usr/local/lib/python3.11/dist-packages (from fastapi) (2.10.6)\n",
            "Requirement already satisfied: typing-extensions>=4.8.0 in /usr/local/lib/python3.11/dist-packages (from fastapi) (4.12.2)\n",
            "Requirement already satisfied: annotated-types>=0.6.0 in /usr/local/lib/python3.11/dist-packages (from pydantic!=1.8,!=1.8.1,!=2.0.0,!=2.0.1,!=2.1.0,<3.0.0,>=1.7.4->fastapi) (0.7.0)\n",
            "Requirement already satisfied: pydantic-core==2.27.2 in /usr/local/lib/python3.11/dist-packages (from pydantic!=1.8,!=1.8.1,!=2.0.0,!=2.0.1,!=2.1.0,<3.0.0,>=1.7.4->fastapi) (2.27.2)\n",
            "Requirement already satisfied: anyio<5,>=3.6.2 in /usr/local/lib/python3.11/dist-packages (from starlette<0.47.0,>=0.40.0->fastapi) (4.9.0)\n",
            "Requirement already satisfied: idna>=2.8 in /usr/local/lib/python3.11/dist-packages (from anyio<5,>=3.6.2->starlette<0.47.0,>=0.40.0->fastapi) (3.10)\n",
            "Requirement already satisfied: sniffio>=1.1 in /usr/local/lib/python3.11/dist-packages (from anyio<5,>=3.6.2->starlette<0.47.0,>=0.40.0->fastapi) (1.3.1)\n"
          ]
        }
      ]
    },
    {
      "cell_type": "code",
      "source": [
        "!pip install uvicorn"
      ],
      "metadata": {
        "colab": {
          "base_uri": "https://localhost:8080/"
        },
        "id": "bfb6k003RCyr",
        "outputId": "48cf501a-c380-4f6a-a551-1cc4a4056ac3"
      },
      "execution_count": 16,
      "outputs": [
        {
          "output_type": "stream",
          "name": "stdout",
          "text": [
            "Requirement already satisfied: uvicorn in /usr/local/lib/python3.11/dist-packages (0.34.0)\n",
            "Requirement already satisfied: click>=7.0 in /usr/local/lib/python3.11/dist-packages (from uvicorn) (8.1.8)\n",
            "Requirement already satisfied: h11>=0.8 in /usr/local/lib/python3.11/dist-packages (from uvicorn) (0.14.0)\n"
          ]
        }
      ]
    },
    {
      "cell_type": "code",
      "execution_count": 17,
      "metadata": {
        "id": "RdN96cnEBmaH"
      },
      "outputs": [],
      "source": [
        "import pandas as pd\n",
        "from sentence_transformers import SentenceTransformer\n",
        "import faiss\n",
        "import numpy as np\n",
        "from fastapi import FastAPI, Query\n",
        "from pydantic import BaseModel\n",
        "import uvicorn"
      ]
    },
    {
      "cell_type": "code",
      "execution_count": 18,
      "metadata": {
        "id": "l8ZLz1f_IBKt"
      },
      "outputs": [],
      "source": [
        "#dataset of news articles\n",
        "df = pd.read_csv(\"Articles.csv\", encoding=\"ISO-8859-1\")\n",
        "documents = df[\"Article\"].dropna().astype(str).tolist()"
      ]
    },
    {
      "cell_type": "code",
      "execution_count": 19,
      "metadata": {
        "id": "frBI9109IFIF"
      },
      "outputs": [],
      "source": [
        "#hugging face for embeddings\n",
        "model = SentenceTransformer(\"all-MiniLM-L6-v2\")\n",
        "\n",
        "# Converting documents into embeddings\n",
        "document_embeddings = model.encode(documents, convert_to_tensor=False)"
      ]
    },
    {
      "cell_type": "code",
      "execution_count": 20,
      "metadata": {
        "id": "ZU9qfyKYIKYl"
      },
      "outputs": [],
      "source": [
        "# FAISS Index (Default: L2 Distance)\n",
        "dimension = len(document_embeddings[0])\n",
        "index = faiss.IndexFlatL2(dimension)\n",
        "index.add(np.array(document_embeddings))"
      ]
    },
    {
      "cell_type": "code",
      "execution_count": 21,
      "metadata": {
        "id": "rQEBrvJaIOpL"
      },
      "outputs": [],
      "source": [
        "# FastAPI app\n",
        "app = FastAPI()\n",
        "\n",
        "# Similarity options\n",
        "SIMILARITY_METRICS = [\"l2\", \"cosine\", \"dot\"]\n",
        "\n",
        "class QueryInput(BaseModel):\n",
        "    q: str\n",
        "    metric: str = \"cosine\"\n",
        "\n",
        "@app.get(\"/\")\n",
        "def home():\n",
        "    return {\"message\": \"Welcome to the Document Similarity API!\"}"
      ]
    },
    {
      "cell_type": "code",
      "execution_count": 22,
      "metadata": {
        "colab": {
          "base_uri": "https://localhost:8080/"
        },
        "id": "CQkpJGoGITIc",
        "outputId": "cf5dcf6f-2afb-4936-fc0d-8f7aa48c112f"
      },
      "outputs": [
        {
          "output_type": "stream",
          "name": "stderr",
          "text": [
            "INFO:     Started server process [740]\n",
            "INFO:     Waiting for application startup.\n",
            "INFO:     Application startup complete.\n",
            "INFO:     Uvicorn running on http://0.0.0.0:8000 (Press CTRL+C to quit)\n",
            "INFO:     Shutting down\n",
            "INFO:     Waiting for application shutdown.\n",
            "INFO:     Application shutdown complete.\n",
            "INFO:     Finished server process [740]\n"
          ]
        }
      ],
      "source": [
        "@app.post(\"/api/search\")\n",
        "def search(request: QueryInput):\n",
        "    \"\"\"Search for similar documents with different similarity metrics\"\"\"\n",
        "    query_embedding = model.encode([request.q])\n",
        "\n",
        "    if request.metric == \"cosine\":\n",
        "        faiss.normalize_L2(query_embedding)  # Normalize for cosine similarity\n",
        "        faiss.normalize_L2(document_embeddings)\n",
        "\n",
        "    elif request.metric == \"dot\":\n",
        "        query_embedding = np.array(query_embedding, dtype=np.float32)\n",
        "        index_dot = faiss.IndexFlatIP(dimension)\n",
        "        index_dot.add(np.array(document_embeddings))\n",
        "        _, indices = index_dot.search(query_embedding, 5)\n",
        "\n",
        "    else:  # Default: L2\n",
        "        _, indices = index.search(np.array(query_embedding), 5)\n",
        "\n",
        "    results = [documents[i] for i in indices[0]]\n",
        "    return {\"query\": request.q, \"metric\": request.metric, \"results\": results}\n",
        "\n",
        "@app.post(\"/api/add_document\")\n",
        "def add_document(text: str):\n",
        "    \"\"\"Real-time indexing: Add a new document to the vector database\"\"\"\n",
        "    documents.append(text)\n",
        "    new_embedding = model.encode([text])\n",
        "    index.add(np.array(new_embedding))\n",
        "    return {\"message\": \"Document added successfully!\", \"total_documents\": len(documents)}\n",
        "\n",
        "import nest_asyncio\n",
        "import uvicorn\n",
        "\n",
        "nest_asyncio.apply()\n",
        "\n",
        "uvicorn.run(app, host=\"0.0.0.0\", port=8000)\n"
      ]
    },
    {
      "cell_type": "code",
      "execution_count": 21,
      "metadata": {
        "id": "js-rvGrWJif2"
      },
      "outputs": [],
      "source": []
    }
  ],
  "metadata": {
    "colab": {
      "provenance": [],
      "authorship_tag": "ABX9TyMueXpW+WIvcet48GcwwBCV",
      "include_colab_link": true
    },
    "kernelspec": {
      "display_name": "Python 3",
      "name": "python3"
    },
    "language_info": {
      "name": "python"
    }
  },
  "nbformat": 4,
  "nbformat_minor": 0
}
